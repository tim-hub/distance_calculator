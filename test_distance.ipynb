{
 "cells": [
  {
   "cell_type": "code",
   "execution_count": 1,
   "metadata": {},
   "outputs": [],
   "source": [
    "import distances_calculator as DistancesCalculator"
   ]
  },
  {
   "cell_type": "code",
   "execution_count": 2,
   "metadata": {},
   "outputs": [],
   "source": [
    "# DistancesCalculator.get_coordinate('18 Haverstock Road, Sandringham')"
   ]
  },
  {
   "cell_type": "code",
   "execution_count": 3,
   "metadata": {},
   "outputs": [
    {
     "data": {
      "text/plain": [
       "('-36.8894064', '174.7275949')"
      ]
     },
     "execution_count": 3,
     "metadata": {},
     "output_type": "execute_result"
    }
   ],
   "source": [
    "DistancesCalculator.extract_coordinate('18 Haverstock Road, Sandringham')"
   ]
  },
  {
   "cell_type": "code",
   "execution_count": 4,
   "metadata": {},
   "outputs": [
    {
     "name": "stdout",
     "output_type": "stream",
     "text": [
      " 139 Carrington Rd, Mount Albert, Auckland 1025's location: ('-36.8808482', '174.7095505')\n",
      "Wintec's location: ('-37.7884141', '175.278936599169')\n"
     ]
    },
    {
     "data": {
      "text/plain": [
       "112.81038632579669"
      ]
     },
     "execution_count": 4,
     "metadata": {},
     "output_type": "execute_result"
    }
   ],
   "source": [
    "DistancesCalculator.get_distance(' 139 Carrington Rd, Mount Albert, Auckland 1025', 'Wintec')"
   ]
  },
  {
   "cell_type": "code",
   "execution_count": 6,
   "metadata": {},
   "outputs": [
    {
     "name": "stdout",
     "output_type": "stream",
     "text": [
      "139 Carrington Rd, Mount Albert, Auckland 1025's location: ('-36.8808482', '174.7095505')\n",
      "1 Fontenoy Street, Mount Albert, Auckland 1025\n",
      " 's location: ('-36.8770805', '174.7110853')\n",
      "139 Carrington Rd, Mount Albert, Auckland 1025's location: ('-36.8808482', '174.7095505')\n",
      "1A Fontenoy Street, Mount Albert, Auckland 1025's location: ('-36.8770612', '174.7112581')\n",
      "139 Carrington Rd, Mount Albert, Auckland 1025's location: ('-36.8808482', '174.7095505')\n",
      "3A Fontenoy Street, Mount Albert, Auckland 1025's location: ('-36.8773318', '174.7115918')\n",
      "139 Carrington Rd, Mount Albert, Auckland 1025's location: ('-36.8808482', '174.7095505')\n",
      "7 Fontenoy Street, Mount Albert, Auckland 1025's location: ('-36.8770504', '174.7119042')\n",
      "139 Carrington Rd, Mount Albert, Auckland 1025's location: ('-36.8808482', '174.7095505')\n",
      "3 Fontenoy Street, Mount Albert, Auckland 1025's location: ('-36.8770399', '174.7114398')\n",
      "139 Carrington Rd, Mount Albert, Auckland 1025's location: ('-36.8808482', '174.7095505')\n",
      "5 Fontenoy Street, Mount Albert, Auckland 1025's location: ('-36.8770921', '174.7116928')\n",
      "139 Carrington Rd, Mount Albert, Auckland 1025's location: ('-36.8808482', '174.7095505')\n",
      "1 Parkdale Road, Mount Albert, Auckland 1025's location: ('-36.8782693', '174.7164315')\n",
      "139 Carrington Rd, Mount Albert, Auckland 1025's location: ('-36.8808482', '174.7095505')\n",
      "3 Parkdale Road, Mount Albert, Auckland 1025's location: ('-36.8781296', '174.7163947')\n",
      "139 Carrington Rd, Mount Albert, Auckland 1025's location: ('-36.8808482', '174.7095505')\n",
      "5 Parkdale Road, Mount Albert, Auckland 1025's location: ('-36.8779658', '174.7163737')\n",
      "139 Carrington Rd, Mount Albert, Auckland 1025's location: ('-36.8808482', '174.7095505')\n",
      "27 Parkdale Road, Mount Albert, Auckland 1025's location: ('-36.8765801', '174.716218')\n",
      "139 Carrington Rd, Mount Albert, Auckland 1025's location: ('-36.8808482', '174.7095505')\n",
      "29 Parkdale Road, Mount Albert, Auckland 1025's location: ('-36.8764332', '174.7162052')\n",
      "    id                                            address  postcode  \\\n",
      "0  NaN  1 Fontenoy Street, Mount Albert, Auckland 1025\\n     1025.0   \n",
      "1  NaN    1A Fontenoy Street, Mount Albert, Auckland 1025       NaN   \n",
      "2  NaN    3A Fontenoy Street, Mount Albert, Auckland 1025       NaN   \n",
      "3  NaN     7 Fontenoy Street, Mount Albert, Auckland 1025       NaN   \n",
      "4  NaN     3 Fontenoy Street, Mount Albert, Auckland 1025       NaN   \n",
      "5  NaN     5 Fontenoy Street, Mount Albert, Auckland 1025       NaN   \n",
      "6  NaN       1 Parkdale Road, Mount Albert, Auckland 1025       NaN   \n",
      "7  NaN       3 Parkdale Road, Mount Albert, Auckland 1025       NaN   \n",
      "8  NaN       5 Parkdale Road, Mount Albert, Auckland 1025       NaN   \n",
      "9  NaN      27 Parkdale Road, Mount Albert, Auckland 1025       NaN   \n",
      "10 NaN      29 Parkdale Road, Mount Albert, Auckland 1025       NaN   \n",
      "\n",
      "          school zone  Price 2017  Price 2014  Price 2011  Price 2008  \\\n",
      "0   Mt Albert grammer         870         560         380         360   \n",
      "1                 NaN        1180         790         540         500   \n",
      "2                 NaN        1180         840         570         520   \n",
      "3                 NaN        1280         910         620         570   \n",
      "4                 NaN        1320         930         640         630   \n",
      "5                 NaN        1475        1020         680         600   \n",
      "6                 NaN        1550        1080         730         620   \n",
      "7                 NaN        1280         860         580         520   \n",
      "8                 NaN        1020         730         470         410   \n",
      "9                 NaN        1360         920         620         540   \n",
      "10                NaN        1450         960         650         600   \n",
      "\n",
      "    Price 2005  distance from school  distance from CBD  \\\n",
      "0          215                   NaN                NaN   \n",
      "1          470                   NaN                NaN   \n",
      "2          500                   NaN                NaN   \n",
      "3          540                   NaN                NaN   \n",
      "4          600                   NaN                NaN   \n",
      "5          560                   NaN                NaN   \n",
      "6          530                   NaN                NaN   \n",
      "7          490                   NaN                NaN   \n",
      "8          215                   NaN                NaN   \n",
      "9          460                   NaN                NaN   \n",
      "10         540                   NaN                NaN   \n",
      "\n",
      "    distance_to_139 Carrington Rd, Mount Albert, Auckland 1025  \n",
      "0                                            0.440768           \n",
      "1                                            0.447790           \n",
      "2                                            0.431240           \n",
      "3                                            0.471488           \n",
      "4                                            0.455731           \n",
      "5                                            0.459217           \n",
      "6                                            0.676090           \n",
      "7                                            0.679894           \n",
      "8                                            0.686539           \n",
      "9                                            0.759804           \n",
      "10                                           0.769242           \n"
     ]
    }
   ],
   "source": [
    "DistancesCalculator.write_into(\"139 Carrington Rd, Mount Albert, Auckland 1025\", \"variables.csv\")"
   ]
  },
  {
   "cell_type": "code",
   "execution_count": null,
   "metadata": {},
   "outputs": [],
   "source": []
  }
 ],
 "metadata": {
  "kernelspec": {
   "display_name": "Python 3",
   "language": "python",
   "name": "python3"
  },
  "language_info": {
   "codemirror_mode": {
    "name": "ipython",
    "version": 3
   },
   "file_extension": ".py",
   "mimetype": "text/x-python",
   "name": "python",
   "nbconvert_exporter": "python",
   "pygments_lexer": "ipython3",
   "version": "3.6.6"
  }
 },
 "nbformat": 4,
 "nbformat_minor": 2
}
