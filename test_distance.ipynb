{
 "cells": [
  {
   "cell_type": "code",
   "execution_count": 1,
   "metadata": {},
   "outputs": [],
   "source": [
    "import DistancesCalculator"
   ]
  },
  {
   "cell_type": "code",
   "execution_count": 2,
   "metadata": {},
   "outputs": [
    {
     "data": {
      "text/plain": [
       "'[{\"place_id\":\"66162608\",\"licence\":\"Data © OpenStreetMap contributors, ODbL 1.0. https:\\\\/\\\\/osm.org\\\\/copyright\",\"osm_type\":\"node\",\"osm_id\":\"5417706283\",\"boundingbox\":[\"-36.8894564\",\"-36.8893564\",\"174.7275449\",\"174.7276449\"],\"lat\":\"-36.8894064\",\"lon\":\"174.7275949\",\"display_name\":\"18, Haverstock Road, Sandringham, Albert-Eden, Auckland, 1025, New Zealand\\\\/Aotearoa\",\"class\":\"place\",\"type\":\"house\",\"importance\":0.42099999999999993}]'"
      ]
     },
     "execution_count": 2,
     "metadata": {},
     "output_type": "execute_result"
    }
   ],
   "source": [
    "DistancesCalculator.get_coordinate('18 Haverstock Road, Sandringham')"
   ]
  },
  {
   "cell_type": "code",
   "execution_count": 3,
   "metadata": {},
   "outputs": [
    {
     "data": {
      "text/plain": [
       "('-36.8894064', '174.7275949')"
      ]
     },
     "execution_count": 3,
     "metadata": {},
     "output_type": "execute_result"
    }
   ],
   "source": [
    "DistancesCalculator.extract_coordinate('18 Haverstock Road, Sandringham')"
   ]
  },
  {
   "cell_type": "code",
   "execution_count": 8,
   "metadata": {},
   "outputs": [
    {
     "name": "stdout",
     "output_type": "stream",
     "text": [
      "('-36.8808482', '174.7095505')\n",
      "('-37.7884141', '175.278936599169')\n",
      "Result: 112.81038632579669\n"
     ]
    },
    {
     "data": {
      "text/plain": [
       "112.81038632579669"
      ]
     },
     "execution_count": 8,
     "metadata": {},
     "output_type": "execute_result"
    }
   ],
   "source": [
    "DistancesCalculator.get_distance(' 139 Carrington Rd, Mount Albert, Auckland 1025', 'Wintec')"
   ]
  },
  {
   "cell_type": "code",
   "execution_count": null,
   "metadata": {},
   "outputs": [],
   "source": []
  }
 ],
 "metadata": {
  "kernelspec": {
   "display_name": "Python 3",
   "language": "python",
   "name": "python3"
  },
  "language_info": {
   "codemirror_mode": {
    "name": "ipython",
    "version": 3
   },
   "file_extension": ".py",
   "mimetype": "text/x-python",
   "name": "python",
   "nbconvert_exporter": "python",
   "pygments_lexer": "ipython3",
   "version": "3.6.6"
  }
 },
 "nbformat": 4,
 "nbformat_minor": 2
}
